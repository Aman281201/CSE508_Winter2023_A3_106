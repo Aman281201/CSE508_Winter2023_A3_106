{
 "cells": [
  {
   "cell_type": "code",
   "execution_count": 2,
   "metadata": {},
   "outputs": [],
   "source": [
    "import pandas as pd\n",
    "\n",
    "file = 'Wiki-Vote.txt'\n",
    "\n",
    "f = open(file,'r')\n",
    "\n",
    "raw_data = f.readlines()\n",
    "cleaned_data = raw_data[4:]"
   ]
  },
  {
   "attachments": {},
   "cell_type": "markdown",
   "metadata": {},
   "source": [
    "# dataset description"
   ]
  },
  {
   "cell_type": "code",
   "execution_count": null,
   "metadata": {},
   "outputs": [],
   "source": [
    "print(\"number of entries = \",len(cleaned_data))\n"
   ]
  },
  {
   "cell_type": "code",
   "execution_count": 16,
   "metadata": {},
   "outputs": [
    {
     "ename": "KeyError",
     "evalue": "1412",
     "output_type": "error",
     "traceback": [
      "\u001b[0;31m---------------------------------------------------------------------------\u001b[0m",
      "\u001b[0;31mKeyError\u001b[0m                                  Traceback (most recent call last)",
      "\u001b[0;32m/var/folders/1k/vm6wkzsd11zg__tz2bx9hvy40000gn/T/ipykernel_45171/1618825175.py\u001b[0m in \u001b[0;36m<module>\u001b[0;34m\u001b[0m\n\u001b[1;32m     20\u001b[0m \u001b[0;34m\u001b[0m\u001b[0m\n\u001b[1;32m     21\u001b[0m \u001b[0;32mfor\u001b[0m \u001b[0mind\u001b[0m\u001b[0;34m,\u001b[0m\u001b[0mi\u001b[0m \u001b[0;32min\u001b[0m \u001b[0menumerate\u001b[0m\u001b[0;34m(\u001b[0m\u001b[0medge_list\u001b[0m\u001b[0;34m)\u001b[0m\u001b[0;34m:\u001b[0m\u001b[0;34m\u001b[0m\u001b[0;34m\u001b[0m\u001b[0m\n\u001b[0;32m---> 22\u001b[0;31m     \u001b[0madj_mat\u001b[0m\u001b[0;34m[\u001b[0m\u001b[0mget_pos\u001b[0m\u001b[0;34m[\u001b[0m\u001b[0mi\u001b[0m\u001b[0;34m[\u001b[0m\u001b[0;36m0\u001b[0m\u001b[0;34m]\u001b[0m\u001b[0;34m]\u001b[0m\u001b[0;34m]\u001b[0m\u001b[0;34m[\u001b[0m\u001b[0mget_pos\u001b[0m\u001b[0;34m[\u001b[0m\u001b[0mi\u001b[0m\u001b[0;34m[\u001b[0m\u001b[0;36m1\u001b[0m\u001b[0;34m]\u001b[0m\u001b[0;34m]\u001b[0m\u001b[0;34m]\u001b[0m \u001b[0;34m=\u001b[0m \u001b[0;36m1\u001b[0m\u001b[0;34m\u001b[0m\u001b[0;34m\u001b[0m\u001b[0m\n\u001b[0m\u001b[1;32m     23\u001b[0m \u001b[0;34m\u001b[0m\u001b[0m\n\u001b[1;32m     24\u001b[0m \u001b[0mprint\u001b[0m\u001b[0;34m(\u001b[0m\u001b[0madj_mat\u001b[0m\u001b[0;34m)\u001b[0m\u001b[0;34m\u001b[0m\u001b[0;34m\u001b[0m\u001b[0m\n",
      "\u001b[0;31mKeyError\u001b[0m: 1412"
     ]
    }
   ],
   "source": [
    "edge_list = []\n",
    "\n",
    "all_nodes = set()\n",
    "for i in raw_data[4:]:\n",
    "    a = i[:-1].split('\\t')\n",
    "    edge_list.append([int(a[0]),int(a[1])])\n",
    "    all_nodes.add(int(a[0]))\n",
    "    all_nodes.add(int(a[1]))\n",
    "\n",
    "\n",
    "node_list = list(all_nodes)\n",
    "node_list.sort()\n",
    "get_pos = {}\n",
    "for ind, i in enumerate(edge_list):\n",
    "    get_pos[i[0]] = ind\n",
    "\n",
    "n = len(node_list)\n",
    "\n",
    "adj_mat = [ [ 0 for j in range(n)] for i in range(n)]\n",
    "\n",
    "for ind,i in enumerate(edge_list):\n",
    "    adj_mat[get_pos[i[0]]][get_pos[i[1]]] = 1\n",
    "\n",
    "print(adj_mat)"
   ]
  }
 ],
 "metadata": {
  "kernelspec": {
   "display_name": "base",
   "language": "python",
   "name": "python3"
  },
  "language_info": {
   "codemirror_mode": {
    "name": "ipython",
    "version": 3
   },
   "file_extension": ".py",
   "mimetype": "text/x-python",
   "name": "python",
   "nbconvert_exporter": "python",
   "pygments_lexer": "ipython3",
   "version": "3.9.13"
  },
  "orig_nbformat": 4,
  "vscode": {
   "interpreter": {
    "hash": "10a6afa7f546b8aeddabb531bd09b33e3634fe1e44cc86f33fc43c56ed89614d"
   }
  }
 },
 "nbformat": 4,
 "nbformat_minor": 2
}
